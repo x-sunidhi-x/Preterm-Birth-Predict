{
 "cells": [
  {
   "cell_type": "code",
   "execution_count": 9,
   "id": "30d503c5",
   "metadata": {},
   "outputs": [],
   "source": [
    "import pandas as pd\n",
    "# df=pd.read_excel(\"data-preterm.xls\")\n",
    "df=pd.read_csv(\"data-preterm.csv\")"
   ]
  },
  {
   "cell_type": "code",
   "execution_count": 10,
   "id": "e291f591",
   "metadata": {},
   "outputs": [],
   "source": [
    "from sklearn.model_selection import train_test_split as split\n",
    "from sklearn.preprocessing import MinMaxScaler\n",
    "from sklearn.preprocessing import MaxAbsScaler\n",
    "from sklearn.metrics import confusion_matrix, classification_report\n",
    "from sklearn.metrics import accuracy_score\n",
    "from sklearn.metrics import roc_curve, auc,roc_auc_score\n",
    "import xgboost as xgb\n",
    "from xgboost import plot_importance\n",
    "from sklearn.ensemble import RandomForestClassifier"
   ]
  },
  {
   "cell_type": "code",
   "execution_count": 4,
   "id": "06de204b",
   "metadata": {},
   "outputs": [
    {
     "name": "stdout",
     "output_type": "stream",
     "text": [
      "Collecting xlrd\n",
      "  Obtaining dependency information for xlrd from https://files.pythonhosted.org/packages/a6/0c/c2a72d51fe56e08a08acc85d13013558a2d793028ae7385448a6ccdfae64/xlrd-2.0.1-py2.py3-none-any.whl.metadata\n",
      "  Downloading xlrd-2.0.1-py2.py3-none-any.whl.metadata (3.4 kB)\n",
      "Downloading xlrd-2.0.1-py2.py3-none-any.whl (96 kB)\n",
      "   ---------------------------------------- 0.0/96.5 kB ? eta -:--:--\n",
      "   ---------------- ----------------------- 41.0/96.5 kB 960.0 kB/s eta 0:00:01\n",
      "   ---------------------------------------- 96.5/96.5 kB 1.4 MB/s eta 0:00:00\n",
      "Installing collected packages: xlrd\n",
      "Successfully installed xlrd-2.0.1\n"
     ]
    }
   ],
   "source": [
    "!pip install xlrd"
   ]
  },
  {
   "cell_type": "code",
   "execution_count": 71,
   "id": "65bcdc19",
   "metadata": {},
   "outputs": [
    {
     "data": {
      "text/html": [
       "<div>\n",
       "<style scoped>\n",
       "    .dataframe tbody tr th:only-of-type {\n",
       "        vertical-align: middle;\n",
       "    }\n",
       "\n",
       "    .dataframe tbody tr th {\n",
       "        vertical-align: top;\n",
       "    }\n",
       "\n",
       "    .dataframe thead th {\n",
       "        text-align: right;\n",
       "    }\n",
       "</style>\n",
       "<table border=\"1\" class=\"dataframe\">\n",
       "  <thead>\n",
       "    <tr style=\"text-align: right;\">\n",
       "      <th></th>\n",
       "      <th>GEST</th>\n",
       "      <th>DILATE</th>\n",
       "      <th>EFFACE</th>\n",
       "      <th>CONSIS</th>\n",
       "      <th>CONTR</th>\n",
       "      <th>MEMBRAN</th>\n",
       "      <th>INFECTION</th>\n",
       "      <th>CHR_HYPERTENSION</th>\n",
       "      <th>AGE</th>\n",
       "      <th>STRAT</th>\n",
       "      <th>GRAVID</th>\n",
       "      <th>PARIT</th>\n",
       "      <th>DIAB</th>\n",
       "      <th>TRANSF</th>\n",
       "      <th>GEMEL</th>\n",
       "      <th>PREMATURE</th>\n",
       "    </tr>\n",
       "  </thead>\n",
       "  <tbody>\n",
       "    <tr>\n",
       "      <th>0</th>\n",
       "      <td>31.0</td>\n",
       "      <td>3.0</td>\n",
       "      <td>100.0</td>\n",
       "      <td>3.0</td>\n",
       "      <td>1.0</td>\n",
       "      <td>2.0</td>\n",
       "      <td>1.0</td>\n",
       "      <td>1.0</td>\n",
       "      <td>26.0</td>\n",
       "      <td>3.0</td>\n",
       "      <td>1.0</td>\n",
       "      <td>0.0</td>\n",
       "      <td>2.0</td>\n",
       "      <td>2.0</td>\n",
       "      <td>1.0</td>\n",
       "      <td>positif</td>\n",
       "    </tr>\n",
       "    <tr>\n",
       "      <th>1</th>\n",
       "      <td>28.0</td>\n",
       "      <td>8.0</td>\n",
       "      <td>0.0</td>\n",
       "      <td>3.0</td>\n",
       "      <td>1.0</td>\n",
       "      <td>2.0</td>\n",
       "      <td>1.0</td>\n",
       "      <td>1.0</td>\n",
       "      <td>25.0</td>\n",
       "      <td>3.0</td>\n",
       "      <td>1.0</td>\n",
       "      <td>0.0</td>\n",
       "      <td>2.0</td>\n",
       "      <td>1.0</td>\n",
       "      <td>2.0</td>\n",
       "      <td>positif</td>\n",
       "    </tr>\n",
       "    <tr>\n",
       "      <th>2</th>\n",
       "      <td>31.0</td>\n",
       "      <td>3.0</td>\n",
       "      <td>100.0</td>\n",
       "      <td>3.0</td>\n",
       "      <td>2.0</td>\n",
       "      <td>2.0</td>\n",
       "      <td>1.0</td>\n",
       "      <td>1.0</td>\n",
       "      <td>28.0</td>\n",
       "      <td>3.0</td>\n",
       "      <td>2.0</td>\n",
       "      <td>0.0</td>\n",
       "      <td>2.0</td>\n",
       "      <td>1.0</td>\n",
       "      <td>1.0</td>\n",
       "      <td>positif</td>\n",
       "    </tr>\n",
       "    <tr>\n",
       "      <th>3</th>\n",
       "      <td>27.0</td>\n",
       "      <td>2.0</td>\n",
       "      <td>75.0</td>\n",
       "      <td>3.0</td>\n",
       "      <td>2.0</td>\n",
       "      <td>2.0</td>\n",
       "      <td>1.0</td>\n",
       "      <td>1.0</td>\n",
       "      <td>27.0</td>\n",
       "      <td>2.0</td>\n",
       "      <td>2.0</td>\n",
       "      <td>1.0</td>\n",
       "      <td>2.0</td>\n",
       "      <td>1.0</td>\n",
       "      <td>2.0</td>\n",
       "      <td>positif</td>\n",
       "    </tr>\n",
       "    <tr>\n",
       "      <th>4</th>\n",
       "      <td>28.0</td>\n",
       "      <td>6.0</td>\n",
       "      <td>75.0</td>\n",
       "      <td>3.0</td>\n",
       "      <td>2.0</td>\n",
       "      <td>2.0</td>\n",
       "      <td>1.0</td>\n",
       "      <td>1.0</td>\n",
       "      <td>17.0</td>\n",
       "      <td>3.0</td>\n",
       "      <td>1.0</td>\n",
       "      <td>0.0</td>\n",
       "      <td>2.0</td>\n",
       "      <td>1.0</td>\n",
       "      <td>1.0</td>\n",
       "      <td>positif</td>\n",
       "    </tr>\n",
       "  </tbody>\n",
       "</table>\n",
       "</div>"
      ],
      "text/plain": [
       "   GEST  DILATE  EFFACE  CONSIS  CONTR  MEMBRAN  INFECTION  CHR_HYPERTENSION  \\\n",
       "0  31.0     3.0   100.0     3.0    1.0      2.0        1.0               1.0   \n",
       "1  28.0     8.0     0.0     3.0    1.0      2.0        1.0               1.0   \n",
       "2  31.0     3.0   100.0     3.0    2.0      2.0        1.0               1.0   \n",
       "3  27.0     2.0    75.0     3.0    2.0      2.0        1.0               1.0   \n",
       "4  28.0     6.0    75.0     3.0    2.0      2.0        1.0               1.0   \n",
       "\n",
       "    AGE  STRAT  GRAVID  PARIT  DIAB  TRANSF  GEMEL PREMATURE  \n",
       "0  26.0    3.0     1.0    0.0   2.0     2.0    1.0   positif  \n",
       "1  25.0    3.0     1.0    0.0   2.0     1.0    2.0   positif  \n",
       "2  28.0    3.0     2.0    0.0   2.0     1.0    1.0   positif  \n",
       "3  27.0    2.0     2.0    1.0   2.0     1.0    2.0   positif  \n",
       "4  17.0    3.0     1.0    0.0   2.0     1.0    1.0   positif  "
      ]
     },
     "execution_count": 71,
     "metadata": {},
     "output_type": "execute_result"
    }
   ],
   "source": [
    "df.head()"
   ]
  },
  {
   "cell_type": "code",
   "execution_count": 72,
   "id": "1828adf0",
   "metadata": {},
   "outputs": [
    {
     "data": {
      "text/plain": [
       "['GEST',\n",
       " 'DILATE',\n",
       " 'EFFACE',\n",
       " 'CONSIS',\n",
       " 'CONTR',\n",
       " 'MEMBRAN',\n",
       " 'INFECTION',\n",
       " 'CHR_HYPERTENSION',\n",
       " 'AGE',\n",
       " 'STRAT',\n",
       " 'GRAVID',\n",
       " 'PARIT',\n",
       " 'DIAB',\n",
       " 'TRANSF',\n",
       " 'GEMEL',\n",
       " 'PREMATURE']"
      ]
     },
     "execution_count": 72,
     "metadata": {},
     "output_type": "execute_result"
    }
   ],
   "source": [
    "df.columns.tolist()"
   ]
  },
  {
   "cell_type": "code",
   "execution_count": 11,
   "id": "9a89fce6",
   "metadata": {},
   "outputs": [
    {
     "data": {
      "text/html": [
       "<div>\n",
       "<style scoped>\n",
       "    .dataframe tbody tr th:only-of-type {\n",
       "        vertical-align: middle;\n",
       "    }\n",
       "\n",
       "    .dataframe tbody tr th {\n",
       "        vertical-align: top;\n",
       "    }\n",
       "\n",
       "    .dataframe thead th {\n",
       "        text-align: right;\n",
       "    }\n",
       "</style>\n",
       "<table border=\"1\" class=\"dataframe\">\n",
       "  <thead>\n",
       "    <tr style=\"text-align: right;\">\n",
       "      <th></th>\n",
       "      <th>GEST</th>\n",
       "      <th>DILATE</th>\n",
       "      <th>EFFACE</th>\n",
       "      <th>CONSIS</th>\n",
       "      <th>CONTR</th>\n",
       "      <th>MEMBRAN</th>\n",
       "      <th>INFECTION</th>\n",
       "      <th>CHR_HYPERTENSION</th>\n",
       "      <th>AGE</th>\n",
       "      <th>STRAT</th>\n",
       "      <th>GRAVID</th>\n",
       "      <th>PARIT</th>\n",
       "      <th>DIAB</th>\n",
       "      <th>TRANSF</th>\n",
       "      <th>GEMEL</th>\n",
       "      <th>PREMATURE</th>\n",
       "    </tr>\n",
       "  </thead>\n",
       "  <tbody>\n",
       "    <tr>\n",
       "      <th>0</th>\n",
       "      <td>31.0</td>\n",
       "      <td>3.0</td>\n",
       "      <td>100.0</td>\n",
       "      <td>3.0</td>\n",
       "      <td>1.0</td>\n",
       "      <td>2.0</td>\n",
       "      <td>1.0</td>\n",
       "      <td>1.0</td>\n",
       "      <td>26.0</td>\n",
       "      <td>3.0</td>\n",
       "      <td>1.0</td>\n",
       "      <td>0.0</td>\n",
       "      <td>2.0</td>\n",
       "      <td>2.0</td>\n",
       "      <td>1.0</td>\n",
       "      <td>1</td>\n",
       "    </tr>\n",
       "    <tr>\n",
       "      <th>1</th>\n",
       "      <td>28.0</td>\n",
       "      <td>8.0</td>\n",
       "      <td>0.0</td>\n",
       "      <td>3.0</td>\n",
       "      <td>1.0</td>\n",
       "      <td>2.0</td>\n",
       "      <td>1.0</td>\n",
       "      <td>1.0</td>\n",
       "      <td>25.0</td>\n",
       "      <td>3.0</td>\n",
       "      <td>1.0</td>\n",
       "      <td>0.0</td>\n",
       "      <td>2.0</td>\n",
       "      <td>1.0</td>\n",
       "      <td>2.0</td>\n",
       "      <td>1</td>\n",
       "    </tr>\n",
       "    <tr>\n",
       "      <th>2</th>\n",
       "      <td>31.0</td>\n",
       "      <td>3.0</td>\n",
       "      <td>100.0</td>\n",
       "      <td>3.0</td>\n",
       "      <td>2.0</td>\n",
       "      <td>2.0</td>\n",
       "      <td>1.0</td>\n",
       "      <td>1.0</td>\n",
       "      <td>28.0</td>\n",
       "      <td>3.0</td>\n",
       "      <td>2.0</td>\n",
       "      <td>0.0</td>\n",
       "      <td>2.0</td>\n",
       "      <td>1.0</td>\n",
       "      <td>1.0</td>\n",
       "      <td>1</td>\n",
       "    </tr>\n",
       "    <tr>\n",
       "      <th>3</th>\n",
       "      <td>27.0</td>\n",
       "      <td>2.0</td>\n",
       "      <td>75.0</td>\n",
       "      <td>3.0</td>\n",
       "      <td>2.0</td>\n",
       "      <td>2.0</td>\n",
       "      <td>1.0</td>\n",
       "      <td>1.0</td>\n",
       "      <td>27.0</td>\n",
       "      <td>2.0</td>\n",
       "      <td>2.0</td>\n",
       "      <td>1.0</td>\n",
       "      <td>2.0</td>\n",
       "      <td>1.0</td>\n",
       "      <td>2.0</td>\n",
       "      <td>1</td>\n",
       "    </tr>\n",
       "    <tr>\n",
       "      <th>4</th>\n",
       "      <td>28.0</td>\n",
       "      <td>6.0</td>\n",
       "      <td>75.0</td>\n",
       "      <td>3.0</td>\n",
       "      <td>2.0</td>\n",
       "      <td>2.0</td>\n",
       "      <td>1.0</td>\n",
       "      <td>1.0</td>\n",
       "      <td>17.0</td>\n",
       "      <td>3.0</td>\n",
       "      <td>1.0</td>\n",
       "      <td>0.0</td>\n",
       "      <td>2.0</td>\n",
       "      <td>1.0</td>\n",
       "      <td>1.0</td>\n",
       "      <td>1</td>\n",
       "    </tr>\n",
       "  </tbody>\n",
       "</table>\n",
       "</div>"
      ],
      "text/plain": [
       "   GEST  DILATE  EFFACE  CONSIS  CONTR  MEMBRAN  INFECTION  CHR_HYPERTENSION  \\\n",
       "0  31.0     3.0   100.0     3.0    1.0      2.0        1.0               1.0   \n",
       "1  28.0     8.0     0.0     3.0    1.0      2.0        1.0               1.0   \n",
       "2  31.0     3.0   100.0     3.0    2.0      2.0        1.0               1.0   \n",
       "3  27.0     2.0    75.0     3.0    2.0      2.0        1.0               1.0   \n",
       "4  28.0     6.0    75.0     3.0    2.0      2.0        1.0               1.0   \n",
       "\n",
       "    AGE  STRAT  GRAVID  PARIT  DIAB  TRANSF  GEMEL  PREMATURE  \n",
       "0  26.0    3.0     1.0    0.0   2.0     2.0    1.0          1  \n",
       "1  25.0    3.0     1.0    0.0   2.0     1.0    2.0          1  \n",
       "2  28.0    3.0     2.0    0.0   2.0     1.0    1.0          1  \n",
       "3  27.0    2.0     2.0    1.0   2.0     1.0    2.0          1  \n",
       "4  17.0    3.0     1.0    0.0   2.0     1.0    1.0          1  "
      ]
     },
     "execution_count": 11,
     "metadata": {},
     "output_type": "execute_result"
    }
   ],
   "source": [
    "# data2016 = data2016.replace({'N': 0, 'Y': 1, 'U': np.nan, 'X':np.nan})\n",
    "df=df.replace({'positif':1,'negatif':0})\n",
    "df.head()"
   ]
  },
  {
   "cell_type": "code",
   "execution_count": 86,
   "id": "3a10b13b",
   "metadata": {},
   "outputs": [
    {
     "data": {
      "text/plain": [
       "35.0"
      ]
     },
     "execution_count": 86,
     "metadata": {},
     "output_type": "execute_result"
    }
   ],
   "source": [
    "# df.isna().sum()\n",
    "df['GEST'].max()"
   ]
  },
  {
   "cell_type": "code",
   "execution_count": 5,
   "id": "ee814db3",
   "metadata": {},
   "outputs": [
    {
     "data": {
      "text/html": [
       "<div>\n",
       "<style scoped>\n",
       "    .dataframe tbody tr th:only-of-type {\n",
       "        vertical-align: middle;\n",
       "    }\n",
       "\n",
       "    .dataframe tbody tr th {\n",
       "        vertical-align: top;\n",
       "    }\n",
       "\n",
       "    .dataframe thead th {\n",
       "        text-align: right;\n",
       "    }\n",
       "</style>\n",
       "<table border=\"1\" class=\"dataframe\">\n",
       "  <thead>\n",
       "    <tr style=\"text-align: right;\">\n",
       "      <th></th>\n",
       "      <th>GEST</th>\n",
       "      <th>DILATE</th>\n",
       "      <th>EFFACE</th>\n",
       "      <th>CONSIS</th>\n",
       "      <th>CONTR</th>\n",
       "      <th>MEMBRAN</th>\n",
       "      <th>INFECTION</th>\n",
       "      <th>CHR_HYPERTENSION</th>\n",
       "      <th>AGE</th>\n",
       "      <th>STRAT</th>\n",
       "      <th>GRAVID</th>\n",
       "      <th>PARIT</th>\n",
       "      <th>DIAB</th>\n",
       "      <th>TRANSF</th>\n",
       "      <th>GEMEL</th>\n",
       "      <th>PREMATURE</th>\n",
       "    </tr>\n",
       "  </thead>\n",
       "  <tbody>\n",
       "    <tr>\n",
       "      <th>8</th>\n",
       "      <td>33.0</td>\n",
       "      <td>0.0</td>\n",
       "      <td>25.0</td>\n",
       "      <td>3.0</td>\n",
       "      <td>1.0</td>\n",
       "      <td>2.0</td>\n",
       "      <td>0.0</td>\n",
       "      <td>0.0</td>\n",
       "      <td>22.0</td>\n",
       "      <td>4.0</td>\n",
       "      <td>1.0</td>\n",
       "      <td>0.0</td>\n",
       "      <td>2.0</td>\n",
       "      <td>2.0</td>\n",
       "      <td>2.0</td>\n",
       "      <td>0</td>\n",
       "    </tr>\n",
       "    <tr>\n",
       "      <th>14</th>\n",
       "      <td>30.0</td>\n",
       "      <td>0.0</td>\n",
       "      <td>25.0</td>\n",
       "      <td>3.0</td>\n",
       "      <td>1.0</td>\n",
       "      <td>2.0</td>\n",
       "      <td>0.0</td>\n",
       "      <td>0.0</td>\n",
       "      <td>32.0</td>\n",
       "      <td>3.0</td>\n",
       "      <td>3.0</td>\n",
       "      <td>1.0</td>\n",
       "      <td>2.0</td>\n",
       "      <td>2.0</td>\n",
       "      <td>1.0</td>\n",
       "      <td>0</td>\n",
       "    </tr>\n",
       "    <tr>\n",
       "      <th>18</th>\n",
       "      <td>30.0</td>\n",
       "      <td>0.0</td>\n",
       "      <td>0.0</td>\n",
       "      <td>3.0</td>\n",
       "      <td>1.0</td>\n",
       "      <td>2.0</td>\n",
       "      <td>1.0</td>\n",
       "      <td>0.0</td>\n",
       "      <td>32.0</td>\n",
       "      <td>3.0</td>\n",
       "      <td>2.0</td>\n",
       "      <td>0.0</td>\n",
       "      <td>2.0</td>\n",
       "      <td>2.0</td>\n",
       "      <td>1.0</td>\n",
       "      <td>0</td>\n",
       "    </tr>\n",
       "    <tr>\n",
       "      <th>20</th>\n",
       "      <td>32.0</td>\n",
       "      <td>0.0</td>\n",
       "      <td>0.0</td>\n",
       "      <td>3.0</td>\n",
       "      <td>1.0</td>\n",
       "      <td>2.0</td>\n",
       "      <td>0.0</td>\n",
       "      <td>0.0</td>\n",
       "      <td>24.0</td>\n",
       "      <td>4.0</td>\n",
       "      <td>3.0</td>\n",
       "      <td>1.0</td>\n",
       "      <td>2.0</td>\n",
       "      <td>2.0</td>\n",
       "      <td>1.0</td>\n",
       "      <td>0</td>\n",
       "    </tr>\n",
       "    <tr>\n",
       "      <th>21</th>\n",
       "      <td>33.0</td>\n",
       "      <td>3.0</td>\n",
       "      <td>50.0</td>\n",
       "      <td>3.0</td>\n",
       "      <td>1.0</td>\n",
       "      <td>2.0</td>\n",
       "      <td>0.0</td>\n",
       "      <td>0.0</td>\n",
       "      <td>17.0</td>\n",
       "      <td>4.0</td>\n",
       "      <td>1.0</td>\n",
       "      <td>0.0</td>\n",
       "      <td>2.0</td>\n",
       "      <td>2.0</td>\n",
       "      <td>1.0</td>\n",
       "      <td>0</td>\n",
       "    </tr>\n",
       "    <tr>\n",
       "      <th>...</th>\n",
       "      <td>...</td>\n",
       "      <td>...</td>\n",
       "      <td>...</td>\n",
       "      <td>...</td>\n",
       "      <td>...</td>\n",
       "      <td>...</td>\n",
       "      <td>...</td>\n",
       "      <td>...</td>\n",
       "      <td>...</td>\n",
       "      <td>...</td>\n",
       "      <td>...</td>\n",
       "      <td>...</td>\n",
       "      <td>...</td>\n",
       "      <td>...</td>\n",
       "      <td>...</td>\n",
       "      <td>...</td>\n",
       "    </tr>\n",
       "    <tr>\n",
       "      <th>367</th>\n",
       "      <td>34.0</td>\n",
       "      <td>2.0</td>\n",
       "      <td>50.0</td>\n",
       "      <td>3.0</td>\n",
       "      <td>1.0</td>\n",
       "      <td>2.0</td>\n",
       "      <td>0.0</td>\n",
       "      <td>0.0</td>\n",
       "      <td>20.0</td>\n",
       "      <td>4.0</td>\n",
       "      <td>2.0</td>\n",
       "      <td>1.0</td>\n",
       "      <td>2.0</td>\n",
       "      <td>1.0</td>\n",
       "      <td>2.0</td>\n",
       "      <td>0</td>\n",
       "    </tr>\n",
       "    <tr>\n",
       "      <th>373</th>\n",
       "      <td>32.0</td>\n",
       "      <td>0.0</td>\n",
       "      <td>0.0</td>\n",
       "      <td>1.0</td>\n",
       "      <td>1.0</td>\n",
       "      <td>2.0</td>\n",
       "      <td>1.0</td>\n",
       "      <td>0.0</td>\n",
       "      <td>21.0</td>\n",
       "      <td>4.0</td>\n",
       "      <td>3.0</td>\n",
       "      <td>1.0</td>\n",
       "      <td>2.0</td>\n",
       "      <td>1.0</td>\n",
       "      <td>1.0</td>\n",
       "      <td>0</td>\n",
       "    </tr>\n",
       "    <tr>\n",
       "      <th>375</th>\n",
       "      <td>32.0</td>\n",
       "      <td>1.0</td>\n",
       "      <td>75.0</td>\n",
       "      <td>2.0</td>\n",
       "      <td>1.0</td>\n",
       "      <td>2.0</td>\n",
       "      <td>0.0</td>\n",
       "      <td>0.0</td>\n",
       "      <td>31.0</td>\n",
       "      <td>4.0</td>\n",
       "      <td>6.0</td>\n",
       "      <td>2.0</td>\n",
       "      <td>2.0</td>\n",
       "      <td>2.0</td>\n",
       "      <td>1.0</td>\n",
       "      <td>0</td>\n",
       "    </tr>\n",
       "    <tr>\n",
       "      <th>380</th>\n",
       "      <td>34.0</td>\n",
       "      <td>0.0</td>\n",
       "      <td>50.0</td>\n",
       "      <td>2.0</td>\n",
       "      <td>1.0</td>\n",
       "      <td>2.0</td>\n",
       "      <td>0.0</td>\n",
       "      <td>0.0</td>\n",
       "      <td>32.0</td>\n",
       "      <td>4.0</td>\n",
       "      <td>1.0</td>\n",
       "      <td>0.0</td>\n",
       "      <td>2.0</td>\n",
       "      <td>2.0</td>\n",
       "      <td>1.0</td>\n",
       "      <td>0</td>\n",
       "    </tr>\n",
       "    <tr>\n",
       "      <th>382</th>\n",
       "      <td>33.0</td>\n",
       "      <td>1.0</td>\n",
       "      <td>50.0</td>\n",
       "      <td>2.0</td>\n",
       "      <td>1.0</td>\n",
       "      <td>2.0</td>\n",
       "      <td>0.0</td>\n",
       "      <td>0.0</td>\n",
       "      <td>23.0</td>\n",
       "      <td>4.0</td>\n",
       "      <td>1.0</td>\n",
       "      <td>0.0</td>\n",
       "      <td>2.0</td>\n",
       "      <td>2.0</td>\n",
       "      <td>1.0</td>\n",
       "      <td>0</td>\n",
       "    </tr>\n",
       "  </tbody>\n",
       "</table>\n",
       "<p>124 rows × 16 columns</p>\n",
       "</div>"
      ],
      "text/plain": [
       "     GEST  DILATE  EFFACE  CONSIS  CONTR  MEMBRAN  INFECTION  \\\n",
       "8    33.0     0.0    25.0     3.0    1.0      2.0        0.0   \n",
       "14   30.0     0.0    25.0     3.0    1.0      2.0        0.0   \n",
       "18   30.0     0.0     0.0     3.0    1.0      2.0        1.0   \n",
       "20   32.0     0.0     0.0     3.0    1.0      2.0        0.0   \n",
       "21   33.0     3.0    50.0     3.0    1.0      2.0        0.0   \n",
       "..    ...     ...     ...     ...    ...      ...        ...   \n",
       "367  34.0     2.0    50.0     3.0    1.0      2.0        0.0   \n",
       "373  32.0     0.0     0.0     1.0    1.0      2.0        1.0   \n",
       "375  32.0     1.0    75.0     2.0    1.0      2.0        0.0   \n",
       "380  34.0     0.0    50.0     2.0    1.0      2.0        0.0   \n",
       "382  33.0     1.0    50.0     2.0    1.0      2.0        0.0   \n",
       "\n",
       "     CHR_HYPERTENSION   AGE  STRAT  GRAVID  PARIT  DIAB  TRANSF  GEMEL  \\\n",
       "8                 0.0  22.0    4.0     1.0    0.0   2.0     2.0    2.0   \n",
       "14                0.0  32.0    3.0     3.0    1.0   2.0     2.0    1.0   \n",
       "18                0.0  32.0    3.0     2.0    0.0   2.0     2.0    1.0   \n",
       "20                0.0  24.0    4.0     3.0    1.0   2.0     2.0    1.0   \n",
       "21                0.0  17.0    4.0     1.0    0.0   2.0     2.0    1.0   \n",
       "..                ...   ...    ...     ...    ...   ...     ...    ...   \n",
       "367               0.0  20.0    4.0     2.0    1.0   2.0     1.0    2.0   \n",
       "373               0.0  21.0    4.0     3.0    1.0   2.0     1.0    1.0   \n",
       "375               0.0  31.0    4.0     6.0    2.0   2.0     2.0    1.0   \n",
       "380               0.0  32.0    4.0     1.0    0.0   2.0     2.0    1.0   \n",
       "382               0.0  23.0    4.0     1.0    0.0   2.0     2.0    1.0   \n",
       "\n",
       "     PREMATURE  \n",
       "8            0  \n",
       "14           0  \n",
       "18           0  \n",
       "20           0  \n",
       "21           0  \n",
       "..         ...  \n",
       "367          0  \n",
       "373          0  \n",
       "375          0  \n",
       "380          0  \n",
       "382          0  \n",
       "\n",
       "[124 rows x 16 columns]"
      ]
     },
     "execution_count": 5,
     "metadata": {},
     "output_type": "execute_result"
    }
   ],
   "source": [
    "df[df['PREMATURE'] == 0]"
   ]
  },
  {
   "cell_type": "code",
   "execution_count": 39,
   "id": "31874f6b",
   "metadata": {},
   "outputs": [
    {
     "data": {
      "text/plain": [
       "MEMBRAN            -0.246504\n",
       "TRANSF             -0.239941\n",
       "PARIT              -0.171479\n",
       "STRAT              -0.101656\n",
       "AGE                -0.094968\n",
       "GRAVID             -0.085460\n",
       "GEST               -0.077971\n",
       "DIAB               -0.015762\n",
       "CONTR               0.066848\n",
       "GEMEL               0.154172\n",
       "CONSIS              0.203372\n",
       "DILATE              0.298831\n",
       "EFFACE              0.337076\n",
       "CHR_HYPERTENSION    0.371554\n",
       "INFECTION           0.768031\n",
       "PREMATURE           1.000000\n",
       "Name: PREMATURE, dtype: float64"
      ]
     },
     "execution_count": 39,
     "metadata": {},
     "output_type": "execute_result"
    }
   ],
   "source": [
    "df.corr()['PREMATURE'].sort_values()"
   ]
  },
  {
   "cell_type": "code",
   "execution_count": 12,
   "id": "e8d97944",
   "metadata": {},
   "outputs": [],
   "source": [
    "train,test = split(df,train_size = 0.7)\n",
    "X_train = train.drop(columns = ['PREMATURE'])\n",
    "y_train = train.PREMATURE\n",
    "X_test = test.drop(columns = ['PREMATURE'])\n",
    "y_test = test.PREMATURE"
   ]
  },
  {
   "cell_type": "code",
   "execution_count": 138,
   "id": "489f1429",
   "metadata": {},
   "outputs": [
    {
     "data": {
      "text/plain": [
       "(273, 15)"
      ]
     },
     "execution_count": 138,
     "metadata": {},
     "output_type": "execute_result"
    }
   ],
   "source": [
    "X_train.shape"
   ]
  },
  {
   "cell_type": "code",
   "execution_count": 13,
   "id": "00b9570c",
   "metadata": {},
   "outputs": [],
   "source": [
    "scaler = MaxAbsScaler()\n",
    "sclr = scaler.fit(X_train)\n",
    "X_train = sclr.transform(X_train)\n",
    "X_test = sclr.transform(X_test)"
   ]
  },
  {
   "cell_type": "code",
   "execution_count": 42,
   "id": "8120ea71",
   "metadata": {},
   "outputs": [
    {
     "data": {
      "text/plain": [
       "0.8212643678160918"
      ]
     },
     "execution_count": 42,
     "metadata": {},
     "output_type": "execute_result"
    }
   ],
   "source": [
    "rfc = RandomForestClassifier(max_depth=8,n_estimators=10).fit(X_train,y_train)\n",
    "rfc_auc = roc_auc_score(y_test, rfc.predict(X_test))\n",
    "rfc_auc\n",
    "# ypred=rfc.predict(X_test)\n",
    "# print(ypred[10:20])\n",
    "# print(y_test[10:20])"
   ]
  },
  {
   "cell_type": "code",
   "execution_count": 43,
   "id": "d4eaef62",
   "metadata": {},
   "outputs": [
    {
     "data": {
      "text/plain": [
       "0.8270114942528736"
      ]
     },
     "execution_count": 43,
     "metadata": {},
     "output_type": "execute_result"
    }
   ],
   "source": [
    "xgbm = xgb.XGBModel().fit(X_train,y_train)\n",
    "xgb_auc = roc_auc_score(y_test, xgbm.predict(X_test).round())\n",
    "xgb_auc"
   ]
  },
  {
   "cell_type": "code",
   "execution_count": 44,
   "id": "15bf037e",
   "metadata": {},
   "outputs": [
    {
     "data": {
      "text/plain": [
       "0.7879310344827586"
      ]
     },
     "execution_count": 44,
     "metadata": {},
     "output_type": "execute_result"
    }
   ],
   "source": [
    "from sklearn.naive_bayes import GaussianNB\n",
    "\n",
    "# Build a Gaussian Classifier\n",
    "nb = GaussianNB()\n",
    "\n",
    "# Model training\n",
    "nb.fit(X_train, y_train)\n",
    "\n",
    "nb_auc = roc_auc_score(y_test, nb.predict(X_test))\n",
    "nb_auc"
   ]
  },
  {
   "cell_type": "code",
   "execution_count": 45,
   "id": "33188a72",
   "metadata": {},
   "outputs": [
    {
     "data": {
      "text/plain": [
       "0.8155172413793103"
      ]
     },
     "execution_count": 45,
     "metadata": {},
     "output_type": "execute_result"
    }
   ],
   "source": [
    "from sklearn.neighbors import KNeighborsClassifier\n",
    "knn = KNeighborsClassifier(n_neighbors=4).fit(X_train, y_train)\n",
    "knn_auc=roc_auc_score(y_test, knn.predict(X_test))\n",
    "knn_auc"
   ]
  },
  {
   "cell_type": "code",
   "execution_count": 14,
   "id": "dd5504b3",
   "metadata": {},
   "outputs": [],
   "source": [
    "import tensorflow as tf"
   ]
  },
  {
   "cell_type": "code",
   "execution_count": 135,
   "id": "3abeb8ab",
   "metadata": {},
   "outputs": [
    {
     "data": {
      "text/plain": [
       "array([[0.71428571, 0.        , 0.5       , ..., 0.22222222, 0.5       ,\n",
       "        0.5       ],\n",
       "       [0.74285714, 0.25      , 0.3       , ..., 0.22222222, 1.        ,\n",
       "        0.5       ],\n",
       "       [0.8       , 0.        , 0.5       , ..., 0.22222222, 0.5       ,\n",
       "        1.        ],\n",
       "       ...,\n",
       "       [0.82857143, 0.        , 0.        , ..., 0.22222222, 1.        ,\n",
       "        1.        ],\n",
       "       [0.71428571, 0.125     , 0.1       , ..., 0.22222222, 1.        ,\n",
       "        0.5       ],\n",
       "       [0.82857143, 0.125     , 0.25      , ..., 0.22222222, 1.        ,\n",
       "        0.5       ]])"
      ]
     },
     "execution_count": 135,
     "metadata": {},
     "output_type": "execute_result"
    }
   ],
   "source": []
  },
  {
   "cell_type": "code",
   "execution_count": 15,
   "id": "d3cd43d2",
   "metadata": {},
   "outputs": [
    {
     "name": "stdout",
     "output_type": "stream",
     "text": [
      "Epoch 1/4\n"
     ]
    },
    {
     "name": "stderr",
     "output_type": "stream",
     "text": [
      "C:\\Users\\gopal\\anaconda3\\Lib\\site-packages\\keras\\src\\layers\\core\\dense.py:86: UserWarning: Do not pass an `input_shape`/`input_dim` argument to a layer. When using Sequential models, prefer using an `Input(shape)` object as the first layer in the model instead.\n",
      "  super().__init__(activity_regularizer=activity_regularizer, **kwargs)\n"
     ]
    },
    {
     "name": "stdout",
     "output_type": "stream",
     "text": [
      "\u001b[1m273/273\u001b[0m \u001b[32m━━━━━━━━━━━━━━━━━━━━\u001b[0m\u001b[37m\u001b[0m \u001b[1m2s\u001b[0m 1ms/step - accuracy: 0.6086 - loss: 0.7997\n",
      "Epoch 2/4\n",
      "\u001b[1m273/273\u001b[0m \u001b[32m━━━━━━━━━━━━━━━━━━━━\u001b[0m\u001b[37m\u001b[0m \u001b[1m0s\u001b[0m 1ms/step - accuracy: 0.7621 - loss: 0.5351\n",
      "Epoch 3/4\n",
      "\u001b[1m273/273\u001b[0m \u001b[32m━━━━━━━━━━━━━━━━━━━━\u001b[0m\u001b[37m\u001b[0m \u001b[1m0s\u001b[0m 1ms/step - accuracy: 0.8908 - loss: 0.4174\n",
      "Epoch 4/4\n",
      "\u001b[1m273/273\u001b[0m \u001b[32m━━━━━━━━━━━━━━━━━━━━\u001b[0m\u001b[37m\u001b[0m \u001b[1m0s\u001b[0m 1ms/step - accuracy: 0.8990 - loss: 0.3718\n"
     ]
    },
    {
     "data": {
      "text/plain": [
       "<keras.src.callbacks.history.History at 0x235295d4190>"
      ]
     },
     "execution_count": 15,
     "metadata": {},
     "output_type": "execute_result"
    }
   ],
   "source": [
    "# from tf.keras.models import Sequential\n",
    "from tensorflow import keras\n",
    "# from tensorflow.keras.optimizers import Adam\n",
    "# from  keras import models\n",
    "from keras.models import Sequential\n",
    "from keras.layers import Dense\n",
    "# from keras.optimizers import adam\n",
    "# from keras.optimizers import adam_v2\n",
    "# from keras import optimizers\n",
    "# from keras.optimizers import RMSprop\n",
    "from keras.regularizers import l2\n",
    "# opt = RMSprop(learning_rate=0.0001, decay=1e-6)\n",
    "# optimizer = optimizers.Adam()\n",
    "model = Sequential()\n",
    "model.add(Dense(8, activation='relu',kernel_regularizer=l2(0.01), input_shape=(15,)))\n",
    "model.add(Dense(8, activation='relu',kernel_regularizer=l2(0.01),))\n",
    "model.add(Dense(1, activation='sigmoid'))\n",
    "# opt = optimizers.adam_v2.Adam(lr=0.001, decay=1e-6)\n",
    "model.compile(loss='binary_crossentropy',\n",
    "optimizer='adam',\n",
    "metrics=['accuracy'])\n",
    "model.fit(X_train, y_train,epochs=4, batch_size=1, verbose=1)"
   ]
  },
  {
   "cell_type": "code",
   "execution_count": 125,
   "id": "c0593e9f",
   "metadata": {},
   "outputs": [],
   "source": [
    "# import pickle\n",
    "\n",
    "# # save the iris classification model as a pickle file\n",
    "# model_pkl_file = \"preterm_model.pkl\"  \n",
    "\n",
    "# with open(model_pkl_file, 'wb') as file:  \n",
    "#     pickle.dump(model, file)\n",
    "model.save('my_model.keras')"
   ]
  },
  {
   "cell_type": "code",
   "execution_count": 126,
   "id": "567a24bf",
   "metadata": {},
   "outputs": [
    {
     "name": "stderr",
     "output_type": "stream",
     "text": [
      "WARNING:absl:You are saving your model as an HDF5 file via `model.save()` or `keras.saving.save_model(model)`. This file format is considered legacy. We recommend using instead the native Keras format, e.g. `model.save('my_model.keras')` or `keras.saving.save_model(model, 'my_model.keras')`. \n"
     ]
    }
   ],
   "source": [
    "model.save('my_model.h5')"
   ]
  },
  {
   "cell_type": "code",
   "execution_count": 77,
   "id": "ab391dd5",
   "metadata": {},
   "outputs": [
    {
     "name": "stdout",
     "output_type": "stream",
     "text": [
      "\u001b[1m4/4\u001b[0m \u001b[32m━━━━━━━━━━━━━━━━━━━━\u001b[0m\u001b[37m\u001b[0m \u001b[1m0s\u001b[0m 1ms/step - accuracy: 0.9082 - loss: 0.2877 \n",
      "[0.28958961367607117, 0.9059829115867615]\n"
     ]
    }
   ],
   "source": [
    "score = model.evaluate(X_test, y_test,verbose=1)\n",
    "print(score)"
   ]
  },
  {
   "cell_type": "code",
   "execution_count": 84,
   "id": "7941416e",
   "metadata": {},
   "outputs": [
    {
     "name": "stdout",
     "output_type": "stream",
     "text": [
      "\u001b[1m4/4\u001b[0m \u001b[32m━━━━━━━━━━━━━━━━━━━━\u001b[0m\u001b[37m\u001b[0m \u001b[1m0s\u001b[0m 1ms/step \n"
     ]
    },
    {
     "data": {
      "text/plain": [
       "array([[1],\n",
       "       [1],\n",
       "       [0],\n",
       "       [0],\n",
       "       [1],\n",
       "       [1],\n",
       "       [1],\n",
       "       [1],\n",
       "       [1],\n",
       "       [1],\n",
       "       [1],\n",
       "       [0],\n",
       "       [1],\n",
       "       [0],\n",
       "       [1],\n",
       "       [1],\n",
       "       [1],\n",
       "       [1],\n",
       "       [1],\n",
       "       [1],\n",
       "       [1],\n",
       "       [1],\n",
       "       [0],\n",
       "       [1],\n",
       "       [0],\n",
       "       [0],\n",
       "       [1],\n",
       "       [0],\n",
       "       [1],\n",
       "       [1],\n",
       "       [0],\n",
       "       [0],\n",
       "       [1],\n",
       "       [1],\n",
       "       [0],\n",
       "       [0],\n",
       "       [1],\n",
       "       [0],\n",
       "       [1],\n",
       "       [1],\n",
       "       [1],\n",
       "       [0],\n",
       "       [1],\n",
       "       [0],\n",
       "       [1],\n",
       "       [1],\n",
       "       [1],\n",
       "       [1],\n",
       "       [1],\n",
       "       [0],\n",
       "       [1],\n",
       "       [1],\n",
       "       [1],\n",
       "       [1],\n",
       "       [1],\n",
       "       [1],\n",
       "       [0],\n",
       "       [0],\n",
       "       [1],\n",
       "       [1],\n",
       "       [0],\n",
       "       [1],\n",
       "       [1],\n",
       "       [0],\n",
       "       [1],\n",
       "       [1],\n",
       "       [0],\n",
       "       [1],\n",
       "       [1],\n",
       "       [0],\n",
       "       [1],\n",
       "       [1],\n",
       "       [1],\n",
       "       [0],\n",
       "       [1],\n",
       "       [0],\n",
       "       [0],\n",
       "       [1],\n",
       "       [1],\n",
       "       [0],\n",
       "       [1],\n",
       "       [1],\n",
       "       [1],\n",
       "       [0],\n",
       "       [0],\n",
       "       [1],\n",
       "       [1],\n",
       "       [1],\n",
       "       [1],\n",
       "       [1],\n",
       "       [0],\n",
       "       [1],\n",
       "       [1],\n",
       "       [1],\n",
       "       [1],\n",
       "       [0],\n",
       "       [1],\n",
       "       [0],\n",
       "       [1],\n",
       "       [0],\n",
       "       [1],\n",
       "       [1],\n",
       "       [1],\n",
       "       [1],\n",
       "       [0],\n",
       "       [1],\n",
       "       [0],\n",
       "       [1],\n",
       "       [0],\n",
       "       [0],\n",
       "       [1],\n",
       "       [1],\n",
       "       [1],\n",
       "       [1],\n",
       "       [1],\n",
       "       [1],\n",
       "       [1]])"
      ]
     },
     "execution_count": 84,
     "metadata": {},
     "output_type": "execute_result"
    }
   ],
   "source": [
    "# y_pred = model.predict(X_test)\n",
    "# y_pred\n",
    "predictions = (model.predict(X_test) > 0.5).astype(\"int32\")\n",
    "predictions"
   ]
  },
  {
   "cell_type": "code",
   "execution_count": 16,
   "id": "4c85d59c",
   "metadata": {},
   "outputs": [
    {
     "data": {
      "text/html": [
       "<div>\n",
       "<style scoped>\n",
       "    .dataframe tbody tr th:only-of-type {\n",
       "        vertical-align: middle;\n",
       "    }\n",
       "\n",
       "    .dataframe tbody tr th {\n",
       "        vertical-align: top;\n",
       "    }\n",
       "\n",
       "    .dataframe thead th {\n",
       "        text-align: right;\n",
       "    }\n",
       "</style>\n",
       "<table border=\"1\" class=\"dataframe\">\n",
       "  <thead>\n",
       "    <tr style=\"text-align: right;\">\n",
       "      <th></th>\n",
       "      <th>GEST</th>\n",
       "      <th>DILATE</th>\n",
       "      <th>EFFACE</th>\n",
       "      <th>CONSIS</th>\n",
       "      <th>CONTR</th>\n",
       "      <th>MEMBRAN</th>\n",
       "      <th>INFECTION</th>\n",
       "      <th>CHR_HYPERTENSION</th>\n",
       "      <th>AGE</th>\n",
       "      <th>STRAT</th>\n",
       "      <th>GRAVID</th>\n",
       "      <th>PARIT</th>\n",
       "      <th>DIAB</th>\n",
       "      <th>TRANSF</th>\n",
       "      <th>GEMEL</th>\n",
       "    </tr>\n",
       "  </thead>\n",
       "  <tbody>\n",
       "    <tr>\n",
       "      <th>0</th>\n",
       "      <td>28</td>\n",
       "      <td>0</td>\n",
       "      <td>0</td>\n",
       "      <td>2</td>\n",
       "      <td>1</td>\n",
       "      <td>2</td>\n",
       "      <td>0</td>\n",
       "      <td>0</td>\n",
       "      <td>23</td>\n",
       "      <td>2</td>\n",
       "      <td>0</td>\n",
       "      <td>0</td>\n",
       "      <td>2</td>\n",
       "      <td>2</td>\n",
       "      <td>1</td>\n",
       "    </tr>\n",
       "  </tbody>\n",
       "</table>\n",
       "</div>"
      ],
      "text/plain": [
       "   GEST  DILATE  EFFACE  CONSIS  CONTR  MEMBRAN  INFECTION  CHR_HYPERTENSION  \\\n",
       "0    28       0       0       2      1        2          0                 0   \n",
       "\n",
       "   AGE  STRAT  GRAVID  PARIT  DIAB  TRANSF  GEMEL  \n",
       "0   23      2       0      0     2       2      1  "
      ]
     },
     "execution_count": 16,
     "metadata": {},
     "output_type": "execute_result"
    }
   ],
   "source": [
    " data = {\n",
    "        \"GEST\": 28,\n",
    "        \"DILATE\": 0,\n",
    "        \"EFFACE\": 0,\n",
    "        \"CONSIS\": 2,\n",
    "        \"CONTR\":1,\n",
    "        \"MEMBRAN\":2,\n",
    "        \"INFECTION\":0,\n",
    "        \"CHR_HYPERTENSION\":0,\n",
    "        \"AGE\":23,\n",
    "        \"STRAT\":2,\n",
    "        \"GRAVID\":0,\n",
    "        \"PARIT\":0,\n",
    "        \"DIAB\":2,\n",
    "        # \"BEBAGE\":BEBAGE,\n",
    "        \"TRANSF\":2,\n",
    "        \"GEMEL\":1\n",
    "\n",
    "\n",
    "    }\n",
    "features = pd.DataFrame(data, index=[0])\n",
    "features"
   ]
  },
  {
   "cell_type": "code",
   "execution_count": 17,
   "id": "1c37905d",
   "metadata": {},
   "outputs": [
    {
     "name": "stdout",
     "output_type": "stream",
     "text": [
      "\u001b[1m1/1\u001b[0m \u001b[32m━━━━━━━━━━━━━━━━━━━━\u001b[0m\u001b[37m\u001b[0m \u001b[1m0s\u001b[0m 88ms/step\n"
     ]
    },
    {
     "data": {
      "text/plain": [
       "array([[0]])"
      ]
     },
     "execution_count": 17,
     "metadata": {},
     "output_type": "execute_result"
    }
   ],
   "source": [
    "predictions = (model.predict(features) > 0.5).astype(\"int32\")\n",
    "predictions"
   ]
  },
  {
   "cell_type": "code",
   "execution_count": 18,
   "id": "d93e6eef",
   "metadata": {},
   "outputs": [
    {
     "name": "stderr",
     "output_type": "stream",
     "text": [
      "WARNING:absl:You are saving your model as an HDF5 file via `model.save()` or `keras.saving.save_model(model)`. This file format is considered legacy. We recommend using instead the native Keras format, e.g. `model.save('my_model.keras')` or `keras.saving.save_model(model, 'my_model.keras')`. \n"
     ]
    }
   ],
   "source": [
    "model.save('my_model.h5')"
   ]
  },
  {
   "cell_type": "code",
   "execution_count": null,
   "id": "12b7bf28",
   "metadata": {},
   "outputs": [],
   "source": []
  }
 ],
 "metadata": {
  "kernelspec": {
   "display_name": "Python 3 (ipykernel)",
   "language": "python",
   "name": "python3"
  },
  "language_info": {
   "codemirror_mode": {
    "name": "ipython",
    "version": 3
   },
   "file_extension": ".py",
   "mimetype": "text/x-python",
   "name": "python",
   "nbconvert_exporter": "python",
   "pygments_lexer": "ipython3",
   "version": "3.11.4"
  }
 },
 "nbformat": 4,
 "nbformat_minor": 5
}
